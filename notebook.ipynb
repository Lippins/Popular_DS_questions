{
 "cells": [
  {
   "cell_type": "markdown",
   "id": "40eb2323",
   "metadata": {},
   "source": [
    "# Popular Data Science Questions\n",
    "In this project, we assume the role of Data Analysts working in a company that creates Data Science content. The content can be in form of books, online articles, videos or interactive text. We have been tasked with figuring out the best content to write about for maximum user engagement.\n",
    "\n",
    "To address this task, we decide to collect data from **[stack exchange](https://en.wikipedia.org/wiki/Stack_Exchange)**, a network of question-and-answer websites. Stack Exchange hosts sites on a multitude of fields and subjects, including Mathematics, Physics, Statistics, and Data Science! Our rationale is simple: If we can identify Data Science questions that people commonly ask, then we can tailor our content to address those topics.\n",
    "\n",
    "## Why Stack Exchange?\n",
    "---\n",
    "1. **Relevance:** Data Science is a multidisciplinary field and Stack Exchange provides a couple of websites that are relevant to our goal. Examples include:\n",
    ">- [Data Science](https://datascience.stackexchange.com/)\n",
    ">- [Cross Validated](https://stats.stackexchange.com/) — a statistics site\n",
    ">- [Artificial Intelligence](https://ai.stackexchange.com/)\n",
    ">- [Mathematics](https://math.stackexchange.com/)\n",
    ">- [Stack Overflow](https://stackoverflow.com/)\n",
    "  \n",
    "2. **It is easy to identify good posts**: Stack Exchange uses a reputation award system for its questions and answers. Each post is subject to upvotes and downvotes. This makes it easy to identify post that users engage and love.\n",
    "3. **Established posting guidelines**: Stack Exchange's [Data Science help center](https://datascience.stackexchange.com/help/asking) states that questions should be objective, practical about Data Science, specific and relevant to other users.\n",
    "\n",
    "The combination of these attributes make Stack Exchange a good source of data for our needs.\n",
    "\n",
    "## Data Science Stack Exchange\n",
    "---\n",
    "Contrary to other Stack Exchange sites, Data Science Stack Exchange (DSSE) is specialized exactly on Data Science. DSSE also has a high percentage of unanswered questions. In fact, a complete list of Stack Exchange websites can be found [here](https://stackexchange.com/sites?view=list#percentanswered), sorted based on the proportion of answered questions. At the time of this writing, Data Science Stack Exchange (DSSE) is one of the bottom 10 sites, having only has 65% of its questions answered. These qualities make DSSE the ideal candidate for our investigation.\n",
    "\n",
    "_**The DSSE homepage**_<br><br>\n",
    "<img src='./images/dsse_site.png'>\n",
    "\n",
    "The left navigation bar on the DSSE hompage comprises five options\n",
    ">- [Questions](https://datascience.stackexchange.com/questions) — a list of all questions on the site.\n",
    ">- [Tags](https://datascience.stackexchange.com/tags) — a list of keywords or labels that categorize questions.<br><br>\n",
    "<img src='./images/dsse_tags.png'><br><br>\n",
    ">- [Users](https://datascience.stackexchange.com/users) — a list of users.<br><br>\n",
    "<img src='./images/dsse_users.png'><br><br>\n",
    ">- [Companies](https://stackoverflow.com/jobs/companies) — a list of companies hiring tech professionals.<br><br>\n",
    "<img src='./images/dsse_companies.png'><br><br>\n",
    ">- [Unanswered](https://datascience.stackexchange.com/unanswered) — a list of unanswered questions.\n",
    "  \n",
    "After exploring the website, it is clear that the tags will be very useful in helping us to identify how many questions are asked about each subject.\n",
    "\n",
    "## SEDE: The Stack Exchange Data Explorer\n",
    "---"
   ]
  }
 ],
 "metadata": {
  "kernelspec": {
   "display_name": "Python 3 (ipykernel)",
   "language": "python",
   "name": "python3"
  },
  "language_info": {
   "codemirror_mode": {
    "name": "ipython",
    "version": 3
   },
   "file_extension": ".py",
   "mimetype": "text/x-python",
   "name": "python",
   "nbconvert_exporter": "python",
   "pygments_lexer": "ipython3",
   "version": "3.9.7"
  }
 },
 "nbformat": 4,
 "nbformat_minor": 5
}
