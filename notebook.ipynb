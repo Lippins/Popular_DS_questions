{
 "cells": [
  {
   "cell_type": "markdown",
   "id": "40eb2323",
   "metadata": {},
   "source": [
    "# Popular Data Science Questions\n",
    "In this project, we assume the role of Data Analysts working in a company that creates Data Science content. The content can be in form of books, online articles, videos or interactive text. We have been tasked with figuring out the best content to write about for maximum user engagement.\n",
    "\n",
    "To address this task, we decide to collect data from **[stack exchange](https://en.wikipedia.org/wiki/Stack_Exchange)**, a network of question-and-answer websites. Stack Exchange hosts sites on a multitude of fields and subjects, including Mathematics, Physics, Statistics, and Data Science! Our rationale is simple: If we can identify Data Science questions that people commonly ask, then we can tailor our content to address those topics.\n",
    "\n",
    "## Why Stack Exchange?\n",
    "---\n",
    "1. **Relevance:** Data Science is a multidisciplinary field and Stack Exchange provides a couple of websites that are relevant to our goal. Examples include:\n",
    ">- [Data Science](https://datascience.stackexchange.com/)\n",
    ">- [Cross Validated](https://stats.stackexchange.com/) — a statistics site\n",
    ">- [Artificial Intelligence](https://ai.stackexchange.com/)\n",
    ">- [Mathematics](https://math.stackexchange.com/)\n",
    ">- [Stack Overflow](https://stackoverflow.com/)\n",
    "  \n",
    "2. **It is easy to identify good posts**: Stack Exchange uses a reputation award system for its questions and answers. Each post (question or answer) is subject to upvotes and downvotes. This makes it easy to identify post that users engage and love.<br><br>\n",
    "3. **Established posting guidelines**: Stack Exchange's Data Science help center states that questions should be objective, practical about Data Science, specific and relevant to other users.\n",
    "\n",
    "These attributes make Stack Exchange a good source of data for achieving our goal."
   ]
  }
 ],
 "metadata": {
  "kernelspec": {
   "display_name": "Python 3 (ipykernel)",
   "language": "python",
   "name": "python3"
  },
  "language_info": {
   "codemirror_mode": {
    "name": "ipython",
    "version": 3
   },
   "file_extension": ".py",
   "mimetype": "text/x-python",
   "name": "python",
   "nbconvert_exporter": "python",
   "pygments_lexer": "ipython3",
   "version": "3.9.7"
  }
 },
 "nbformat": 4,
 "nbformat_minor": 5
}
